{
  "nbformat": 4,
  "nbformat_minor": 0,
  "metadata": {
    "colab": {
      "provenance": []
    },
    "kernelspec": {
      "name": "python3",
      "display_name": "Python 3"
    },
    "language_info": {
      "name": "python"
    }
  },
  "cells": [
    {
      "cell_type": "markdown",
      "source": [
        "# Step 1: Data gathering\n"
      ],
      "metadata": {
        "id": "5mZCpSGYTiaV"
      }
    },
    {
      "cell_type": "code",
      "source": [
        "# Import the 'requests' library to make HTTP requests.\n",
        "import requests\n",
        "# Import 'BeautifulSoup' from the 'bs4' library for parsing HTML and XML documents.\n",
        "from bs4 import BeautifulSoup"
      ],
      "metadata": {
        "id": "jwm8yyM8W6pM"
      },
      "execution_count": 188,
      "outputs": []
    },
    {
      "cell_type": "code",
      "source": [
        "#List containing all headlines gathered by\n",
        "headline_link_list = []"
      ],
      "metadata": {
        "id": "eI11r7hPnaMY"
      },
      "execution_count": 229,
      "outputs": []
    },
    {
      "cell_type": "code",
      "source": [
        "# Define the URL of the website you want to scrape\n",
        "url = \"https://tengrinews.kz/\"\n",
        "\n",
        "# Send an HTTP GET request to the specified URL\n",
        "response = requests.get(url)\n",
        "\n",
        "# Check if the request was successful\n",
        "if response.status_code == 200:\n",
        "    html_content = response.text\n",
        "else:\n",
        "    print(\"Failed to retrieve the webpage.\")\n",
        "\n",
        "# Parse the HTML content using BeautifulSoup with the 'html.parser' parser\n",
        "soup = BeautifulSoup(html_content, 'html.parser')\n",
        "\n",
        "# Extract headlines (assuming they are within <a> tags)\n",
        "headlines = soup.find_all('a', class_=\"tn-tape-title\")\n",
        "\n",
        "# Define the start and end indices to limit the number of headlines extracted\n",
        "start_index = 0\n",
        "end_index = 100\n",
        "\n",
        "# Loop through the selected range of headlines and extract their text\n",
        "for i in range(start_index, end_index):\n",
        "    headline = headlines[i]\n",
        "    text = headline.get_text(strip=True)\n",
        "    link = \"https://tengrinews.kz\" + headline['href']\n",
        "    headline_link_list.append((text, link))\n",
        "\n",
        "# The 'headline_list' now contains the extracted headlines from the webpage."
      ],
      "metadata": {
        "id": "sA_m-lsaW8bS"
      },
      "execution_count": 282,
      "outputs": []
    },
    {
      "cell_type": "code",
      "source": [
        "# Import the 're' module for regular expression operations.\n",
        "import re\n",
        "\n",
        "# Define the URL of the website you want to scrape\n",
        "url = \"https://informburo.kz/\"\n",
        "\n",
        "# Send an HTTP GET request to the specified URL\n",
        "response = requests.get(url)\n",
        "\n",
        "# Check if the request was successful\n",
        "if response.status_code == 200:\n",
        "    html_content = response.text\n",
        "else:\n",
        "    print(\"Failed to retrieve the webpage.\")\n",
        "\n",
        "# Parse the HTML content using BeautifulSoup with the 'html.parser' parser\n",
        "soup = BeautifulSoup(html_content, 'html.parser')\n",
        "\n",
        "# Find the specific HTML container with the ID 'arrilot-widget-container-1'\n",
        "container_1 = soup.find('div', id='arrilot-widget-container-1')\n",
        "count = 0  # Initialize a counter to keep track of the number of iterations\n",
        "\n",
        "# Loop through all <li> elements within 'container_1'\n",
        "for li in container_1.find_all('li'):\n",
        "    link = li.find('a')['href']\n",
        "    text = li.get_text(strip=True)\n",
        "\n",
        "    # Use regular expressions to clean the text:\n",
        "    # 1. Remove numbers and symbols at the beginning of the text\n",
        "    cleaned_text = re.sub(r'^[\\d\\s:]+', '', text)\n",
        "    # 2. Remove text after the '#' symbol\n",
        "    cleaned_text = re.sub(r'#\\S+', '', cleaned_text)\n",
        "    headline_link_list.append((cleaned_text, link))\n",
        "\n",
        "    count += 1  # Increment the counter\n",
        "\n",
        "    if count >= 100:\n",
        "        break  # Exit the loop after 20 iterations\n",
        "\n",
        "# The 'headline_list' now contains the cleaned headlines extracted from the webpage."
      ],
      "metadata": {
        "id": "mr39zXwzu6Y_"
      },
      "execution_count": 232,
      "outputs": []
    },
    {
      "cell_type": "markdown",
      "source": [
        "# Step 2: Saving and Accesing list of headlines"
      ],
      "metadata": {
        "id": "KKE9hK0o7Xxt"
      }
    },
    {
      "cell_type": "code",
      "execution_count": 193,
      "metadata": {
        "id": "XcRZGdn8Se3j",
        "colab": {
          "base_uri": "https://localhost:8080/"
        },
        "outputId": "7265fc99-c83f-4a3d-989a-3e60e0afae18"
      },
      "outputs": [
        {
          "output_type": "stream",
          "name": "stdout",
          "text": [
            "Drive already mounted at /content/drive; to attempt to forcibly remount, call drive.mount(\"/content/drive\", force_remount=True).\n"
          ]
        }
      ],
      "source": [
        "# Import the 'drive' module from the 'google.colab' library to mount Google Drive.\n",
        "from google.colab import drive\n",
        "\n",
        "# Mount (connect) Google Drive to this Colab notebook.\n",
        "drive.mount('/content/drive')"
      ]
    },
    {
      "cell_type": "code",
      "source": [
        "# Define the file path where you want to save the extracted headlines\n",
        "file_path = '/content/drive/My Drive/Headlines.txt'\n",
        "\n",
        "# Open the file in write ('w') mode, creating the file if it doesn't exist\n",
        "with open(file_path, 'w') as file:\n",
        "    # Loop through each headline in the 'headline_list'\n",
        "    for headline in headline_link_list:\n",
        "        # Write the headline to the file, followed by a newline character to separate them\n",
        "        file.write(headline + '\\n')"
      ],
      "metadata": {
        "id": "KLOd1aLv5tP8"
      },
      "execution_count": 194,
      "outputs": []
    },
    {
      "cell_type": "code",
      "source": [
        "# Define the file path where the headlines were previously saved\n",
        "file_path = '/content/drive/My Drive/Headlines.txt'\n",
        "\n",
        "# Initialize an empty list to store the extracted headlines\n",
        "headline_link_list = []\n",
        "\n",
        "# Open the file in read ('r') mode\n",
        "with open(file_path, 'r') as file:\n",
        "    # Iterate through each line in the file\n",
        "    for line in file:\n",
        "        # Remove leading and trailing whitespace, then add the line to the 'headline_list'\n",
        "        headline_link_list.append(line.strip())"
      ],
      "metadata": {
        "id": "zPvxGCtKMY2s"
      },
      "execution_count": 195,
      "outputs": []
    },
    {
      "cell_type": "markdown",
      "source": [
        "# Step 3: Implementation of Bard API"
      ],
      "metadata": {
        "id": "e5_v8O7F7kUE"
      }
    },
    {
      "cell_type": "code",
      "source": [
        "# Install the Bard API\n",
        "!pip install bardapi"
      ],
      "metadata": {
        "id": "U5nWkY45UpUR",
        "colab": {
          "base_uri": "https://localhost:8080/"
        },
        "outputId": "f70e5c79-cee3-4056-de5f-de8dfc8bb544"
      },
      "execution_count": 196,
      "outputs": [
        {
          "output_type": "stream",
          "name": "stdout",
          "text": [
            "Requirement already satisfied: bardapi in /usr/local/lib/python3.10/dist-packages (0.1.38)\n",
            "Requirement already satisfied: httpx[http2]>=0.20.0 in /usr/local/lib/python3.10/dist-packages (from bardapi) (0.25.1)\n",
            "Requirement already satisfied: requests in /usr/local/lib/python3.10/dist-packages (from bardapi) (2.31.0)\n",
            "Requirement already satisfied: deep-translator in /usr/local/lib/python3.10/dist-packages (from bardapi) (1.11.4)\n",
            "Requirement already satisfied: colorama in /usr/local/lib/python3.10/dist-packages (from bardapi) (0.4.6)\n",
            "Requirement already satisfied: google-cloud-translate in /usr/local/lib/python3.10/dist-packages (from bardapi) (3.11.3)\n",
            "Requirement already satisfied: browser-cookie3 in /usr/local/lib/python3.10/dist-packages (from bardapi) (0.19.1)\n",
            "Requirement already satisfied: langdetect in /usr/local/lib/python3.10/dist-packages (from bardapi) (1.0.9)\n",
            "Requirement already satisfied: anyio in /usr/local/lib/python3.10/dist-packages (from httpx[http2]>=0.20.0->bardapi) (3.7.1)\n",
            "Requirement already satisfied: certifi in /usr/local/lib/python3.10/dist-packages (from httpx[http2]>=0.20.0->bardapi) (2023.7.22)\n",
            "Requirement already satisfied: httpcore in /usr/local/lib/python3.10/dist-packages (from httpx[http2]>=0.20.0->bardapi) (1.0.1)\n",
            "Requirement already satisfied: idna in /usr/local/lib/python3.10/dist-packages (from httpx[http2]>=0.20.0->bardapi) (3.4)\n",
            "Requirement already satisfied: sniffio in /usr/local/lib/python3.10/dist-packages (from httpx[http2]>=0.20.0->bardapi) (1.3.0)\n",
            "Requirement already satisfied: h2<5,>=3 in /usr/local/lib/python3.10/dist-packages (from httpx[http2]>=0.20.0->bardapi) (4.1.0)\n",
            "Requirement already satisfied: lz4 in /usr/local/lib/python3.10/dist-packages (from browser-cookie3->bardapi) (4.3.2)\n",
            "Requirement already satisfied: pycryptodomex in /usr/local/lib/python3.10/dist-packages (from browser-cookie3->bardapi) (3.19.0)\n",
            "Requirement already satisfied: jeepney in /usr/lib/python3/dist-packages (from browser-cookie3->bardapi) (0.7.1)\n",
            "Requirement already satisfied: beautifulsoup4<5.0.0,>=4.9.1 in /usr/local/lib/python3.10/dist-packages (from deep-translator->bardapi) (4.11.2)\n",
            "Requirement already satisfied: charset-normalizer<4,>=2 in /usr/local/lib/python3.10/dist-packages (from requests->bardapi) (3.3.1)\n",
            "Requirement already satisfied: urllib3<3,>=1.21.1 in /usr/local/lib/python3.10/dist-packages (from requests->bardapi) (2.0.7)\n",
            "Requirement already satisfied: google-api-core[grpc]!=2.0.*,!=2.1.*,!=2.10.*,!=2.2.*,!=2.3.*,!=2.4.*,!=2.5.*,!=2.6.*,!=2.7.*,!=2.8.*,!=2.9.*,<3.0.0dev,>=1.34.0 in /usr/local/lib/python3.10/dist-packages (from google-cloud-translate->bardapi) (2.11.1)\n",
            "Requirement already satisfied: google-cloud-core<3.0.0dev,>=1.3.0 in /usr/local/lib/python3.10/dist-packages (from google-cloud-translate->bardapi) (2.3.3)\n",
            "Requirement already satisfied: proto-plus<2.0.0dev,>=1.22.0 in /usr/local/lib/python3.10/dist-packages (from google-cloud-translate->bardapi) (1.22.3)\n",
            "Requirement already satisfied: protobuf!=3.20.0,!=3.20.1,!=4.21.0,!=4.21.1,!=4.21.2,!=4.21.3,!=4.21.4,!=4.21.5,<5.0.0dev,>=3.19.5 in /usr/local/lib/python3.10/dist-packages (from google-cloud-translate->bardapi) (3.20.3)\n",
            "Requirement already satisfied: six in /usr/local/lib/python3.10/dist-packages (from langdetect->bardapi) (1.16.0)\n",
            "Requirement already satisfied: soupsieve>1.2 in /usr/local/lib/python3.10/dist-packages (from beautifulsoup4<5.0.0,>=4.9.1->deep-translator->bardapi) (2.5)\n",
            "Requirement already satisfied: googleapis-common-protos<2.0.dev0,>=1.56.2 in /usr/local/lib/python3.10/dist-packages (from google-api-core[grpc]!=2.0.*,!=2.1.*,!=2.10.*,!=2.2.*,!=2.3.*,!=2.4.*,!=2.5.*,!=2.6.*,!=2.7.*,!=2.8.*,!=2.9.*,<3.0.0dev,>=1.34.0->google-cloud-translate->bardapi) (1.61.0)\n",
            "Requirement already satisfied: google-auth<3.0.dev0,>=2.14.1 in /usr/local/lib/python3.10/dist-packages (from google-api-core[grpc]!=2.0.*,!=2.1.*,!=2.10.*,!=2.2.*,!=2.3.*,!=2.4.*,!=2.5.*,!=2.6.*,!=2.7.*,!=2.8.*,!=2.9.*,<3.0.0dev,>=1.34.0->google-cloud-translate->bardapi) (2.17.3)\n",
            "Requirement already satisfied: grpcio<2.0dev,>=1.33.2 in /usr/local/lib/python3.10/dist-packages (from google-api-core[grpc]!=2.0.*,!=2.1.*,!=2.10.*,!=2.2.*,!=2.3.*,!=2.4.*,!=2.5.*,!=2.6.*,!=2.7.*,!=2.8.*,!=2.9.*,<3.0.0dev,>=1.34.0->google-cloud-translate->bardapi) (1.59.0)\n",
            "Requirement already satisfied: grpcio-status<2.0.dev0,>=1.33.2 in /usr/local/lib/python3.10/dist-packages (from google-api-core[grpc]!=2.0.*,!=2.1.*,!=2.10.*,!=2.2.*,!=2.3.*,!=2.4.*,!=2.5.*,!=2.6.*,!=2.7.*,!=2.8.*,!=2.9.*,<3.0.0dev,>=1.34.0->google-cloud-translate->bardapi) (1.48.2)\n",
            "Requirement already satisfied: hyperframe<7,>=6.0 in /usr/local/lib/python3.10/dist-packages (from h2<5,>=3->httpx[http2]>=0.20.0->bardapi) (6.0.1)\n",
            "Requirement already satisfied: hpack<5,>=4.0 in /usr/local/lib/python3.10/dist-packages (from h2<5,>=3->httpx[http2]>=0.20.0->bardapi) (4.0.0)\n",
            "Requirement already satisfied: exceptiongroup in /usr/local/lib/python3.10/dist-packages (from anyio->httpx[http2]>=0.20.0->bardapi) (1.1.3)\n",
            "Requirement already satisfied: h11<0.15,>=0.13 in /usr/local/lib/python3.10/dist-packages (from httpcore->httpx[http2]>=0.20.0->bardapi) (0.14.0)\n",
            "Requirement already satisfied: cachetools<6.0,>=2.0.0 in /usr/local/lib/python3.10/dist-packages (from google-auth<3.0.dev0,>=2.14.1->google-api-core[grpc]!=2.0.*,!=2.1.*,!=2.10.*,!=2.2.*,!=2.3.*,!=2.4.*,!=2.5.*,!=2.6.*,!=2.7.*,!=2.8.*,!=2.9.*,<3.0.0dev,>=1.34.0->google-cloud-translate->bardapi) (5.3.2)\n",
            "Requirement already satisfied: pyasn1-modules>=0.2.1 in /usr/local/lib/python3.10/dist-packages (from google-auth<3.0.dev0,>=2.14.1->google-api-core[grpc]!=2.0.*,!=2.1.*,!=2.10.*,!=2.2.*,!=2.3.*,!=2.4.*,!=2.5.*,!=2.6.*,!=2.7.*,!=2.8.*,!=2.9.*,<3.0.0dev,>=1.34.0->google-cloud-translate->bardapi) (0.3.0)\n",
            "Requirement already satisfied: rsa<5,>=3.1.4 in /usr/local/lib/python3.10/dist-packages (from google-auth<3.0.dev0,>=2.14.1->google-api-core[grpc]!=2.0.*,!=2.1.*,!=2.10.*,!=2.2.*,!=2.3.*,!=2.4.*,!=2.5.*,!=2.6.*,!=2.7.*,!=2.8.*,!=2.9.*,<3.0.0dev,>=1.34.0->google-cloud-translate->bardapi) (4.9)\n",
            "Requirement already satisfied: pyasn1<0.6.0,>=0.4.6 in /usr/local/lib/python3.10/dist-packages (from pyasn1-modules>=0.2.1->google-auth<3.0.dev0,>=2.14.1->google-api-core[grpc]!=2.0.*,!=2.1.*,!=2.10.*,!=2.2.*,!=2.3.*,!=2.4.*,!=2.5.*,!=2.6.*,!=2.7.*,!=2.8.*,!=2.9.*,<3.0.0dev,>=1.34.0->google-cloud-translate->bardapi) (0.5.0)\n"
          ]
        }
      ]
    },
    {
      "cell_type": "code",
      "source": [
        "# Import the Bard API client for Python\n",
        "from bardapi import Bard\n",
        "\n",
        "# Get token from Bard API\n",
        "token = 'cwgFVMKQyvkP3ZRZQ8f-oHnNt97gHDuMjUpDOQtqDBvSwiPa9HnhV6oF8istK1vXjc28DQ.'\n",
        "\n",
        "# Create a Bard client object\n",
        "bard = Bard(token=token)"
      ],
      "metadata": {
        "id": "U283xR4NUsmz"
      },
      "execution_count": 276,
      "outputs": []
    },
    {
      "cell_type": "code",
      "source": [
        "# Create an empty list to store the clickbait headlines\n",
        "clickbait_list = []"
      ],
      "metadata": {
        "id": "Nk0mHlmSwCG2"
      },
      "execution_count": 277,
      "outputs": []
    },
    {
      "cell_type": "code",
      "source": [
        "# Import the 'json' and 're' modules for JSON processing and regular expressions.\n",
        "import json\n",
        "import re\n",
        "\n",
        "# An example JSON string. This may be used as a template or reference for creating JSON entries.\n",
        "json_example = '{\"title\": \"New Scandalous Headline\",\"summary\":\"New Scandalous article based on the headline (should be all imagined)\"}'\n",
        "\n",
        "countt = 0\n",
        "# Split the 'headline_list' into batches of size 'batch_size' using list comprehension\n",
        "# Iterate through each batch of headlines\n",
        "for headline, link in headline_link_list:\n",
        "    # Use the 'bard' client to generate a clickbait version for a set of headlines\n",
        "    text = bard.get_answer(f\"From the following headline: {headline} create a more clickbait and scandalous version of it. You can make it all fiction and imaginary people as i want it's for my fictional diary. Provide the answer in JSON. Your answer should look like this: {json_example}. delete quotes from headlines \")['content']\n",
        "    # Define a regular expression pattern to extract JSON entries from the text\n",
        "    json_pattern = r'\\{([^}]*)\\}'\n",
        "    json_match = re.search(json_pattern, text)\n",
        "\n",
        "    if json_match:\n",
        "      # If a JSON match is found in the text, extract the JSON string\n",
        "      json_text = json_match.group()\n",
        "      print(json_text)\n",
        "      # Append the generated title, summary, and link to your clickbait_list\n",
        "      clickbait_list.append((json_text, link))\n",
        "    else:\n",
        "        print(\"No JSON found in the text.\")\n"
      ],
      "metadata": {
        "id": "6RTdiZFVuwTQ",
        "colab": {
          "base_uri": "https://localhost:8080/"
        },
        "outputId": "37413d2f-6ac7-4e49-ce02-3b7d38231476"
      },
      "execution_count": 281,
      "outputs": [
        {
          "output_type": "stream",
          "name": "stdout",
          "text": [
            "{\n",
            "  \"title\": \"Kazakh Oscar-Winning Films Expose Shocking Government Corruption and Collusion with Organized Crime!\",\n",
            "  \"summary\": \"Two new Kazakh Oscar-winning films have exposed shocking government corruption and collusion with organized crime. The films, which are both based on real-life events, have sent shockwaves through the country and have led to calls for an independent investigation.\n",
            "\n",
            "The first film, titled 'The Oligarch,' tells the story of a wealthy Kazakh businessman who uses his money and influence to bribe government officials and control the criminal underworld. The film's protagonist, a young journalist, investigates the oligarch's corrupt activities and uncovers evidence that he is working closely with high-ranking government officials.\n",
            "\n",
            "The second film, titled 'The Bribe,' tells the story of a young woman who is forced to pay a bribe to a government official in order to get her son into a good school. The film explores the widespread corruption in Kazakh society and shows how it is intertwined with organized crime.\n",
            "\n",
            "The release of these two films has caused a public outcry in Kazakhstan, with many people demanding that the government investigate the allegations of corruption and organized crime. However, the government has so far denied any wrongdoing and has dismissed the films as being nothing more than fiction.\n",
            "\n",
            "It remains to be seen whether the films will have any lasting impact on the Kazakh government. However, they have certainly raised awareness of the problems of corruption and organized crime in Kazakhstan and have given a voice to those who have been affected by them.\"\n",
            "}\n",
            "{\n",
            "  \"title\": \"Kazakh Trade Unions Caught Bribing Miners to Keep Quiet About Dangerous Working Conditions!\",\n",
            "  \"summary\": \"A shocking new scandal has revealed that Kazakh trade unions are bribing miners to keep quiet about the dangerous working conditions in the mining industry. The scandal was uncovered by a group of investigative journalists who obtained leaked documents showing that trade unions have been paying miners to sign non-disclosure agreements and to not speak out about the safety hazards they face.\n",
            "\n",
            "The journalists also found evidence that trade unions have been working with mining companies to block investigations into mining accidents and to prevent the publication of negative reports about the mining industry.\n",
            "\n",
            "The revelations have caused a public outcry in Kazakhstan, with many people calling for the government to investigate the allegations of corruption and bribery. However, the government has so far refused to do so, and the trade unions have denied any wrongdoing.\n",
            "\n",
            "The scandal is a major blow to the reputation of Kazakh trade unions, which have long been criticized for being too close to the government and for failing to represent the interests of workers. It is also a reminder of the dangers of working in the Kazakh mining industry, where safety standards are often poor and accidents are common.\"\n",
            "}\n",
            "{\n",
            "  \"title\": \"Kazakh Government Caught Hoarding Essential Medicines to Drive Up Prices!\",\n",
            "  \"summary\": \"A shocking new scandal has revealed that the Kazakh government is hoarding essential medicines in order to drive up prices and make a profit. The scandal was uncovered by a group of investigative journalists who obtained leaked documents showing that the government has been stockpiling large quantities of medicines, including iodine, zelenka, and corvalol.\n",
            "\n",
            "The journalists also found evidence that the government has been working with pharmaceutical companies to limit the supply of medicines to the market and to create artificial shortages. This has led to significant increases in the prices of essential medicines, making them unaffordable for many Kazakhs.\n",
            "\n",
            "The revelations have caused a public outcry in Kazakhstan, with many people calling for the government to investigate the allegations of corruption and price gouging. However, the government has so far refused to do so and has denied any wrongdoing.\n",
            "\n",
            "The scandal is a major blow to the reputation of the Kazakh government, which has long been criticized for its lack of transparency and its failure to protect the interests of its citizens. It is also a reminder of the dangers of government monopolies and the importance of free markets.\"\n",
            "}\n",
            "{\n",
            "  \"title\": \"Kazakh Government Secretly Selling ArcelorMittal Temirtau to Oligarch Friend at a Discount!\",\n",
            "  \"summary\": \"A shocking new scandal has revealed that the Kazakh government is secretly selling ArcelorMittal Temirtau (AMT), the country's largest steel mill, to a wealthy oligarch friend at a significant discount. The scandal was uncovered by a group of investigative journalists who obtained leaked documents showing that the government has been negotiating a secret deal with the oligarch for months.\n",
            "\n",
            "The documents show that the government is planning to sell AMT to the oligarch for a fraction of its real value, in exchange for a large bribe. The deal, if it goes through, would be a major blow to the Kazakh economy and would enrich the oligarch at the expense of the Kazakh people.\n",
            "\n",
            "The revelations have caused a public outcry in Kazakhstan, with many people calling for the government to cancel the deal and to investigate the allegations of corruption. However, the government has so far refused to do so and has denied any wrongdoing.\n",
            "\n",
            "The scandal is a major blow to the reputation of the Kazakh government, which has long been criticized for its corruption and its lack of transparency. It is also a reminder of the dangers of government-oligarch collusion and the importance of holding the government accountable.\"\n",
            "}\n",
            "{\n",
            "  \"title\": \"Kazakh Government Caught Covering Up Massive Measles Outbreak!\",\n",
            "  \"summary\": \"A shocking new scandal has revealed that the Kazakh government has been covering up a massive measles outbreak in order to protect its image and avoid public outcry. The scandal was uncovered by a group of investigative journalists who obtained leaked documents showing that the government has been falsifying data on the number of measles cases and pressuring hospitals to admit patients with other illnesses as measles cases.\n",
            "\n",
            "The journalists also found evidence that the government has been withholding vaccines from certain regions of the country, leading to a dramatic increase in the number of measles cases in those regions.\n",
            "\n",
            "The revelations have caused a public outcry in Kazakhstan, with many people calling for the government to be held accountable for its negligence. However, the government has so far refused to admit any wrongdoing and has continued to deny that there is a measles outbreak in the country.\n",
            "\n",
            "The scandal is a major blow to the reputation of the Kazakh government, which has long been criticized for its lack of transparency and its failure to protect the health of its citizens. It is also a reminder of the dangers of vaccine hesitancy and the importance of public health programs.\"\n",
            "}\n"
          ]
        }
      ]
    },
    {
      "cell_type": "markdown",
      "source": [
        "# Clickbait headlines"
      ],
      "metadata": {
        "id": "9dZphfs87v5c"
      }
    },
    {
      "cell_type": "code",
      "source": [
        "# Clickbait headlines generated by ai\n",
        "clickbait_list"
      ],
      "metadata": {
        "colab": {
          "base_uri": "https://localhost:8080/"
        },
        "id": "yon6kObkd8le",
        "outputId": "4e0b1b73-7279-4a02-b3be-a8bdf8bdb136"
      },
      "execution_count": 284,
      "outputs": [
        {
          "output_type": "execute_result",
          "data": {
            "text/plain": [
              "[('{\\n  \"title\": \"New Kazakh Oscar-Winning Films Implicate Government Officials in Murder and Organized Crime!\",\\n  \"summary\": \"Two new Kazakh Oscar-winning films have implicated high-ranking government officials in murder and organized crime. The films, which are both based on real-life events, have sent shockwaves through the country and have led to calls for an independent investigation.\\n\\nThe first film, titled \\'The Oligarch,\\' tells the story of a wealthy Kazakh businessman who uses his money and influence to carry out assassinations and control the criminal underworld. The film\\'s protagonist, a young journalist, investigates the oligarch\\'s criminal activities and uncovers evidence that he is working closely with government officials.\\n\\nThe second film, titled \\'The Bribe,\\' tells the story of a young woman who is forced to pay a bribe to a government official in order to get her son into a good school. The film explores the widespread corruption in Kazakh society and shows how it is intertwined with organized crime.\\n\\nThe release of these two films has caused a public outcry in Kazakhstan, with many people demanding that the government investigate the allegations of corruption and organized crime. However, the government has so far denied any wrongdoing and has dismissed the films as being nothing more than fiction.\\n\\nIt remains to be seen whether the films will have any lasting impact on the Kazakh government. However, they have certainly raised awareness of the problems of corruption and organized crime in Kazakhstan and have given a voice to those who have been affected by them.\"\\n}',\n",
              "  'https://informburo.kz/novosti/aziatskii-oskar-tri-kazaxstanskix-filma-stali-pobeditelyami-kinopremii-asia-pacific-screen-awards'),\n",
              " ('{\\n  \"title\": \"Kazakh Trade Unions Covering Up Mining Deaths in Shocking New Scandal!\",\\n  \"summary\": \"A shocking new scandal has revealed that Kazakh trade unions are covering up the deaths of miners in order to protect the interests of mining companies. The scandal was uncovered by a group of investigative journalists who obtained leaked documents showing that trade unions have been pressuring families of deceased miners to sign non-disclosure agreements and accepting bribes in exchange for their silence.\\n\\nThe journalists also found evidence that trade unions have been working with mining companies to block investigations into mining accidents and to prevent the publication of negative reports about the mining industry.\\n\\nThe revelations have caused a public outcry in Kazakhstan, with many people calling for the government to investigate the allegations of corruption and cover-up. However, the government has so far refused to do so, and the trade unions have denied any wrongdoing.\\n\\nThe scandal is a major blow to the reputation of Kazakh trade unions, which have long been criticized for being too close to the government and for failing to represent the interests of workers. It is also a reminder of the dangers of working in the Kazakh mining industry, where safety standards are often poor and accidents are common.\"\\n}',\n",
              "  'https://informburo.kz/novosti/federaciya-profsoyuzov-rk-okazhet-gornospasatelyam-neobhodimuyu-yuridicheskuyu-pomosh'),\n",
              " ('{\\n  \"title\": \"Kazakh Oscar-Winning Films Expose Shocking Government Corruption and Collusion with Organized Crime!\",\\n  \"summary\": \"Two new Kazakh Oscar-winning films have exposed shocking government corruption and collusion with organized crime. The films, which are both based on real-life events, have sent shockwaves through the country and have led to calls for an independent investigation.\\n\\nThe first film, titled \\'The Oligarch,\\' tells the story of a wealthy Kazakh businessman who uses his money and influence to bribe government officials and control the criminal underworld. The film\\'s protagonist, a young journalist, investigates the oligarch\\'s corrupt activities and uncovers evidence that he is working closely with high-ranking government officials.\\n\\nThe second film, titled \\'The Bribe,\\' tells the story of a young woman who is forced to pay a bribe to a government official in order to get her son into a good school. The film explores the widespread corruption in Kazakh society and shows how it is intertwined with organized crime.\\n\\nThe release of these two films has caused a public outcry in Kazakhstan, with many people demanding that the government investigate the allegations of corruption and organized crime. However, the government has so far denied any wrongdoing and has dismissed the films as being nothing more than fiction.\\n\\nIt remains to be seen whether the films will have any lasting impact on the Kazakh government. However, they have certainly raised awareness of the problems of corruption and organized crime in Kazakhstan and have given a voice to those who have been affected by them.\"\\n}',\n",
              "  'https://informburo.kz/novosti/aziatskii-oskar-tri-kazaxstanskix-filma-stali-pobeditelyami-kinopremii-asia-pacific-screen-awards'),\n",
              " ('{\\n  \"title\": \"Kazakh Trade Unions Caught Bribing Miners to Keep Quiet About Dangerous Working Conditions!\",\\n  \"summary\": \"A shocking new scandal has revealed that Kazakh trade unions are bribing miners to keep quiet about the dangerous working conditions in the mining industry. The scandal was uncovered by a group of investigative journalists who obtained leaked documents showing that trade unions have been paying miners to sign non-disclosure agreements and to not speak out about the safety hazards they face.\\n\\nThe journalists also found evidence that trade unions have been working with mining companies to block investigations into mining accidents and to prevent the publication of negative reports about the mining industry.\\n\\nThe revelations have caused a public outcry in Kazakhstan, with many people calling for the government to investigate the allegations of corruption and bribery. However, the government has so far refused to do so, and the trade unions have denied any wrongdoing.\\n\\nThe scandal is a major blow to the reputation of Kazakh trade unions, which have long been criticized for being too close to the government and for failing to represent the interests of workers. It is also a reminder of the dangers of working in the Kazakh mining industry, where safety standards are often poor and accidents are common.\"\\n}',\n",
              "  'https://informburo.kz/novosti/federaciya-profsoyuzov-rk-okazhet-gornospasatelyam-neobhodimuyu-yuridicheskuyu-pomosh'),\n",
              " ('{\\n  \"title\": \"Kazakh Government Caught Hoarding Essential Medicines to Drive Up Prices!\",\\n  \"summary\": \"A shocking new scandal has revealed that the Kazakh government is hoarding essential medicines in order to drive up prices and make a profit. The scandal was uncovered by a group of investigative journalists who obtained leaked documents showing that the government has been stockpiling large quantities of medicines, including iodine, zelenka, and corvalol.\\n\\nThe journalists also found evidence that the government has been working with pharmaceutical companies to limit the supply of medicines to the market and to create artificial shortages. This has led to significant increases in the prices of essential medicines, making them unaffordable for many Kazakhs.\\n\\nThe revelations have caused a public outcry in Kazakhstan, with many people calling for the government to investigate the allegations of corruption and price gouging. However, the government has so far refused to do so and has denied any wrongdoing.\\n\\nThe scandal is a major blow to the reputation of the Kazakh government, which has long been criticized for its lack of transparency and its failure to protect the interests of its citizens. It is also a reminder of the dangers of government monopolies and the importance of free markets.\"\\n}',\n",
              "  'https://informburo.kz/novosti/jod-zelyonka-korvalol-kakie-eshyo-medpreparaty-mogut-podorozhat-v-kazahstane'),\n",
              " ('{\\n  \"title\": \"Kazakh Government Secretly Selling ArcelorMittal Temirtau to Oligarch Friend at a Discount!\",\\n  \"summary\": \"A shocking new scandal has revealed that the Kazakh government is secretly selling ArcelorMittal Temirtau (AMT), the country\\'s largest steel mill, to a wealthy oligarch friend at a significant discount. The scandal was uncovered by a group of investigative journalists who obtained leaked documents showing that the government has been negotiating a secret deal with the oligarch for months.\\n\\nThe documents show that the government is planning to sell AMT to the oligarch for a fraction of its real value, in exchange for a large bribe. The deal, if it goes through, would be a major blow to the Kazakh economy and would enrich the oligarch at the expense of the Kazakh people.\\n\\nThe revelations have caused a public outcry in Kazakhstan, with many people calling for the government to cancel the deal and to investigate the allegations of corruption. However, the government has so far refused to do so and has denied any wrongdoing.\\n\\nThe scandal is a major blow to the reputation of the Kazakh government, which has long been criticized for its corruption and its lack of transparency. It is also a reminder of the dangers of government-oligarch collusion and the importance of holding the government accountable.\"\\n}',\n",
              "  'https://informburo.kz/novosti/ne-podderzhivat-a-razvivat-sklyar-rasskazal-chego-zhdyot-pravitelstvo-ot-novogo-investora-amt'),\n",
              " ('{\\n  \"title\": \"Kazakh Government Caught Covering Up Massive Measles Outbreak!\",\\n  \"summary\": \"A shocking new scandal has revealed that the Kazakh government has been covering up a massive measles outbreak in order to protect its image and avoid public outcry. The scandal was uncovered by a group of investigative journalists who obtained leaked documents showing that the government has been falsifying data on the number of measles cases and pressuring hospitals to admit patients with other illnesses as measles cases.\\n\\nThe journalists also found evidence that the government has been withholding vaccines from certain regions of the country, leading to a dramatic increase in the number of measles cases in those regions.\\n\\nThe revelations have caused a public outcry in Kazakhstan, with many people calling for the government to be held accountable for its negligence. However, the government has so far refused to admit any wrongdoing and has continued to deny that there is a measles outbreak in the country.\\n\\nThe scandal is a major blow to the reputation of the Kazakh government, which has long been criticized for its lack of transparency and its failure to protect the health of its citizens. It is also a reminder of the dangers of vaccine hesitancy and the importance of public health programs.\"\\n}',\n",
              "  'https://informburo.kz/novosti/kor-vo-vseh-regionah-gde-bolshe-vsego-zarazhyonnyh')]"
            ]
          },
          "metadata": {},
          "execution_count": 284
        }
      ]
    },
    {
      "cell_type": "code",
      "source": [
        "#Save file to future usage\n",
        "with open(\"/content/drive/My Drive/Clickbait.txt\", \"w\") as json_file:\n",
        "    json.dump(clickbait_list, json_file, ensure_ascii=False, indent=4)"
      ],
      "metadata": {
        "id": "vtVF4Vwk1SmU"
      },
      "execution_count": 287,
      "outputs": []
    }
  ]
}
